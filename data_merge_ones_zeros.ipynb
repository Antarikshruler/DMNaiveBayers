{
 "cells": [
  {
   "cell_type": "code",
   "execution_count": null,
   "metadata": {},
   "outputs": [
    {
     "name": "stdout",
     "output_type": "stream",
     "text": [
      "Started\n"
     ]
    }
   ],
   "source": [
    "import pandas as pd\n",
    "\n",
    "print (\"Started\")\n",
    "\n",
    "df1 = pd.read_csv('ones.csv', encoding = 'latin-1')\n",
    "\n",
    "df2 = pd.read_csv('zeros.csv', encoding = 'latin-1')\n",
    "\n",
    "print(\"Dataset loaded\")\n",
    "\n"
   ]
  },
  {
   "cell_type": "code",
   "execution_count": 3,
   "metadata": {},
   "outputs": [
    {
     "name": "stdout",
     "output_type": "stream",
     "text": [
      "Concatanation Done\n",
      "(13730132, 24)\n",
      "File Saved\n"
     ]
    }
   ],
   "source": [
    "ones = df1.head(600000)\n",
    "zeros = df2.head(600000)\n",
    "final = pd.concat([ones,zeros])\n",
    "print(\"Concatanation Done\")\n",
    "\n",
    "#print (df2.head())\n",
    "\n",
    "print(final.shape)\n",
    "\n",
    "final.to_csv('12_lakh_train.csv', encoding='utf-8', index=False)\n",
    "\n",
    "#df3.to_csv('zeros.csv', encoding='utf-8', index=False)\n",
    "\n",
    "print(\"File Saved\")"
   ]
  }
 ],
 "metadata": {
  "kernelspec": {
   "display_name": "Python 2",
   "language": "python",
   "name": "python2"
  },
  "language_info": {
   "codemirror_mode": {
    "name": "ipython",
    "version": 3
   },
   "file_extension": ".py",
   "mimetype": "text/x-python",
   "name": "python",
   "nbconvert_exporter": "python",
   "pygments_lexer": "ipython3",
   "version": "3.5.2"
  }
 },
 "nbformat": 4,
 "nbformat_minor": 2
}
