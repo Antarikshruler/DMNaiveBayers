{
 "cells": [
  {
   "cell_type": "code",
   "execution_count": 1,
   "metadata": {},
   "outputs": [
    {
     "name": "stdout",
     "output_type": "stream",
     "text": [
      "Started\n",
      "Dataset loaded\n"
     ]
    }
   ],
   "source": [
    "import pandas as pd\n",
    "\n",
    "print (\"Started\")\n",
    "\n",
    "df1 = pd.read_csv('test.csv', encoding = 'latin-1')\n",
    "\n",
    "\n",
    "print(\"Dataset loaded\")\n"
   ]
  },
  {
   "cell_type": "code",
   "execution_count": 3,
   "metadata": {},
   "outputs": [
    {
     "name": "stdout",
     "output_type": "stream",
     "text": [
      "Concatanation Done\n",
      "(30000, 23)\n",
      "File Saved\n"
     ]
    }
   ],
   "source": [
    "test= df1.head(30000)\n",
    "print(\"Concatanation Done\")\n",
    "\n",
    "#print (df2.head())\n",
    "\n",
    "print(test.shape)\n",
    "\n",
    "test.to_csv('testless.csv', encoding='utf-8', index=False)\n",
    "\n",
    "#df3.to_csv('zeros.csv', encoding='utf-8', index=False)\n",
    "\n",
    "print(\"File Saved\")"
   ]
  }
 ],
 "metadata": {
  "kernelspec": {
   "display_name": "Python 2",
   "language": "python",
   "name": "python2"
  },
  "language_info": {
   "codemirror_mode": {
    "name": "ipython",
    "version": 3
   },
   "file_extension": ".py",
   "mimetype": "text/x-python",
   "name": "python",
   "nbconvert_exporter": "python",
   "pygments_lexer": "ipython3",
   "version": "3.5.2"
  }
 },
 "nbformat": 4,
 "nbformat_minor": 2
}
